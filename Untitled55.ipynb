{
 "cells": [
  {
   "cell_type": "code",
   "execution_count": 1,
   "id": "e4e452b5-0baa-49ba-8bb9-9b844b5a8060",
   "metadata": {},
   "outputs": [
    {
     "name": "stdout",
     "output_type": "stream",
     "text": [
      "Welcome to the Guesser's Game!\n",
      "Rules: One player (Chooser) selects a number, and other players (Guessers) try to guess it.\n",
      "Let's get started!\n",
      "\n"
     ]
    },
    {
     "name": "stdin",
     "output_type": "stream",
     "text": [
      "Enter the number of players:  3\n",
      "Enter the name of player 1:  Arpan\n",
      "Enter the name of player 2:  Kartik\n",
      "Enter the name of player 3:  Alok\n"
     ]
    },
    {
     "name": "stdout",
     "output_type": "stream",
     "text": [
      "\n",
      "Choose who will be the chooser.\n"
     ]
    },
    {
     "name": "stdin",
     "output_type": "stream",
     "text": [
      "Enter the name of the Chooser:  Arpan\n"
     ]
    },
    {
     "name": "stdout",
     "output_type": "stream",
     "text": [
      "\n",
      "Arpan, you will now select a number for others to guess!\n"
     ]
    },
    {
     "name": "stdin",
     "output_type": "stream",
     "text": [
      "Enter the secret number (it will be hidden):  ········\n"
     ]
    },
    {
     "name": "stdout",
     "output_type": "stream",
     "text": [
      "\n",
      "Guessers, try to guess the number! You have 5 attempts.\n",
      "\n",
      "---Round 1 ---\n"
     ]
    },
    {
     "name": "stdin",
     "output_type": "stream",
     "text": [
      "Kartik, enter your guess:  5\n",
      "Alok, enter your guess:  7\n"
     ]
    },
    {
     "name": "stdout",
     "output_type": "stream",
     "text": [
      "\n",
      "No correct guesses in this round. Moving to the next round.\n",
      "---Round 2 ---\n"
     ]
    },
    {
     "name": "stdin",
     "output_type": "stream",
     "text": [
      "Kartik, enter your guess:  11\n",
      "Alok, enter your guess:  10\n"
     ]
    },
    {
     "name": "stdout",
     "output_type": "stream",
     "text": [
      "\n",
      "No correct guesses in this round. Moving to the next round.\n",
      "\n",
      "Game Over! No one guessed the correct number. The secret number was 15\n",
      "The chooser, Arpan, wins!\n",
      "Thanks for playing!\n"
     ]
    }
   ],
   "source": [
    "import getpass # To hide input for the secret number\n",
    "\n",
    "def guessers_game():\n",
    "    print(\"Welcome to the Guesser's Game!\")\n",
    "    print(\"Rules: One player (Chooser) selects a number, and other players (Guessers) try to guess it.\")\n",
    "    print(\"Let's get started!\\n\")\n",
    "\n",
    "    # Step 1: Setup Players\n",
    "    players = []\n",
    "    num_players = int(input(\"Enter the number of players: \"))\n",
    "    for i in range(num_players):\n",
    "        player_name = input(f\"Enter the name of player {i + 1}: \")\n",
    "        players.append(player_name)\n",
    "\n",
    "    # Step 2: Chooser selects a number\n",
    "    print(\"\\nChoose who will be the chooser.\")\n",
    "    chooser = input(\"Enter the name of the Chooser: \")\n",
    "\n",
    "    if chooser not in players:\n",
    "        print(\"Invalid player name! Restart the game.\")\n",
    "        return\n",
    "\n",
    "    print(f\"\\n{chooser}, you will now select a number for others to guess!\")\n",
    "    try:\n",
    "        secret_number = int(getpass.getpass(\"Enter the secret number (it will be hidden): \"))\n",
    "    except ValueError:\n",
    "        print(\"Invalid input! Please enter a valid number. Restart the game.\")\n",
    "        return\n",
    "\n",
    "    # Step 3: Start Guessing Rounds\n",
    "    max_attempts = 2 # Limit attempts to 5 rounds\n",
    "    attempts = 0\n",
    "    winners = [] # List to store the names of players who guessed correctly\n",
    "\n",
    "    print(\"\\nGuessers, try to guess the number! You have 5 attempts.\\n\")\n",
    "    while attempts < max_attempts:\n",
    "        guesses = [] # List to collect all player' guesses in the current round\n",
    "        print(f\"---Round {attempts + 1} ---\")\n",
    "\n",
    "        for player in players:\n",
    "            if player != chooser:\n",
    "                try:\n",
    "                    guess = int(input(f\"{player}, enter your guess: \"))\n",
    "                except ValueError:\n",
    "                    print(\"Invalid input! Enter a valid number.\")\n",
    "                    guess = None\n",
    "                guesses.append((player, guess))\n",
    "\n",
    "\n",
    "\n",
    "        # Check guesses and identify Winners\n",
    "        for player, guess in guesses:\n",
    "            if guess == secret_number:\n",
    "                winners.append(player)\n",
    "\n",
    "        if winners:\n",
    "            print(f\"\\nCongratulations! The following players guessed the number {secret_number} correctly: {', '.join(winners)}\")\n",
    "            return\n",
    "\n",
    "        print(\"\\nNo correct guesses in this round. Moving to the next round.\")\n",
    "        attempts += 1\n",
    "\n",
    "    # Step 4: End Game - No winner, Chooser wins\n",
    "    if not winners:\n",
    "        print(f\"\\nGame Over! No one guessed the correct number. The secret number was {secret_number}\")\n",
    "        print(f\"The chooser, {chooser}, wins!\")\n",
    "    else:\n",
    "        print(f\"\\nCongratulations to the winners: {', '.join(winner)}\")\n",
    "\n",
    "    print(\"Thanks for playing!\")\n",
    "\n",
    "# Runt the game\n",
    "if __name__ == \"__main__\":\n",
    "    guessers_game()\n",
    "    "
   ]
  },
  {
   "cell_type": "code",
   "execution_count": null,
   "id": "b9630da4-b388-4dc9-a0c0-00851e7eac03",
   "metadata": {},
   "outputs": [],
   "source": []
  }
 ],
 "metadata": {
  "kernelspec": {
   "display_name": "Python [conda env:base] *",
   "language": "python",
   "name": "conda-base-py"
  },
  "language_info": {
   "codemirror_mode": {
    "name": "ipython",
    "version": 3
   },
   "file_extension": ".py",
   "mimetype": "text/x-python",
   "name": "python",
   "nbconvert_exporter": "python",
   "pygments_lexer": "ipython3",
   "version": "3.11.7"
  }
 },
 "nbformat": 4,
 "nbformat_minor": 5
}
